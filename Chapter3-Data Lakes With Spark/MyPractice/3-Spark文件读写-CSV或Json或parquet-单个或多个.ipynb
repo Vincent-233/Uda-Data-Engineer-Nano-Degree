{
 "cells": [
  {
   "cell_type": "markdown",
   "metadata": {},
   "source": [
    "用新式的SparkSession，引入它们，并创建一个会话     \n",
    "本章相关参考：https://spark.apache.org/docs/2.1.0/api/python/pyspark.sql.html#pyspark.sql.DataFrame    \n",
    "[官方文档](https://spark.apache.org/docs/latest/api/python/pyspark.sql.html)才是最好的教程"
   ]
  },
  {
   "cell_type": "code",
   "execution_count": 1,
   "metadata": {},
   "outputs": [],
   "source": [
    "import pyspark\n",
    "from pyspark.sql import SparkSession"
   ]
  },
  {
   "cell_type": "code",
   "execution_count": 2,
   "metadata": {},
   "outputs": [],
   "source": [
    "# 创建或获取会话\n",
    "spark = SparkSession.builder.appName('Python Spark SQL example').getOrCreate()"
   ]
  },
  {
   "cell_type": "code",
   "execution_count": 3,
   "metadata": {},
   "outputs": [
    {
     "data": {
      "text/html": [
       "\n",
       "            <div>\n",
       "                <p><b>SparkSession - in-memory</b></p>\n",
       "                \n",
       "        <div>\n",
       "            <p><b>SparkContext</b></p>\n",
       "\n",
       "            <p><a href=\"http://10.0.2.15:4040\">Spark UI</a></p>\n",
       "\n",
       "            <dl>\n",
       "              <dt>Version</dt>\n",
       "                <dd><code>v2.4.3</code></dd>\n",
       "              <dt>Master</dt>\n",
       "                <dd><code>local[*]</code></dd>\n",
       "              <dt>AppName</dt>\n",
       "                <dd><code>Python Spark SQL example</code></dd>\n",
       "            </dl>\n",
       "        </div>\n",
       "        \n",
       "            </div>\n",
       "        "
      ],
      "text/plain": [
       "<pyspark.sql.session.SparkSession at 0x7fb7e4dcceb8>"
      ]
     },
     "execution_count": 3,
     "metadata": {},
     "output_type": "execute_result"
    }
   ],
   "source": [
    "# 显示Spark相关信息\n",
    "spark"
   ]
  },
  {
   "cell_type": "markdown",
   "metadata": {},
   "source": [
    "## 读取单个文件"
   ]
  },
  {
   "cell_type": "markdown",
   "metadata": {},
   "source": [
    "### CSV"
   ]
  },
  {
   "cell_type": "code",
   "execution_count": 9,
   "metadata": {},
   "outputs": [],
   "source": [
    "csv_path = '/home/ghost/workdata/patients.csv'\n",
    "df_patient = spark.read.format('csv')\\\n",
    "    .option('header', 'true')\\\n",
    "    .option('inferSchema', 'true')\\\n",
    "    .load(csv_path)"
   ]
  },
  {
   "cell_type": "code",
   "execution_count": 10,
   "metadata": {
    "scrolled": true
   },
   "outputs": [
    {
     "name": "stdout",
     "output_type": "stream",
     "text": [
      "root\n",
      " |-- patient_id: integer (nullable = true)\n",
      " |-- assigned_sex: string (nullable = true)\n",
      " |-- given_name: string (nullable = true)\n",
      " |-- surname: string (nullable = true)\n",
      " |-- address: string (nullable = true)\n",
      " |-- city: string (nullable = true)\n",
      " |-- state: string (nullable = true)\n",
      " |-- zip_code: integer (nullable = true)\n",
      " |-- country: string (nullable = true)\n",
      " |-- contact: string (nullable = true)\n",
      " |-- birthdate: string (nullable = true)\n",
      " |-- weight: double (nullable = true)\n",
      " |-- height: integer (nullable = true)\n",
      " |-- bmi: double (nullable = true)\n",
      "\n"
     ]
    }
   ],
   "source": [
    "# 打印 dataframe 架构\n",
    "df_patient.printSchema()"
   ]
  },
  {
   "cell_type": "markdown",
   "metadata": {},
   "source": [
    "### JSON"
   ]
  },
  {
   "cell_type": "code",
   "execution_count": 6,
   "metadata": {},
   "outputs": [],
   "source": [
    "json_path = '/home/ghost/workdata/sparkify_log_small.json'\n",
    "user_log = spark.read.format('json')\\\n",
    "    .load(json_path)"
   ]
  },
  {
   "cell_type": "code",
   "execution_count": 7,
   "metadata": {
    "scrolled": false
   },
   "outputs": [
    {
     "name": "stdout",
     "output_type": "stream",
     "text": [
      "root\n",
      " |-- artist: string (nullable = true)\n",
      " |-- auth: string (nullable = true)\n",
      " |-- firstName: string (nullable = true)\n",
      " |-- gender: string (nullable = true)\n",
      " |-- itemInSession: long (nullable = true)\n",
      " |-- lastName: string (nullable = true)\n",
      " |-- length: double (nullable = true)\n",
      " |-- level: string (nullable = true)\n",
      " |-- location: string (nullable = true)\n",
      " |-- method: string (nullable = true)\n",
      " |-- page: string (nullable = true)\n",
      " |-- registration: long (nullable = true)\n",
      " |-- sessionId: long (nullable = true)\n",
      " |-- song: string (nullable = true)\n",
      " |-- status: long (nullable = true)\n",
      " |-- ts: long (nullable = true)\n",
      " |-- userAgent: string (nullable = true)\n",
      " |-- userId: string (nullable = true)\n",
      "\n"
     ]
    }
   ],
   "source": [
    "user_log.printSchema()"
   ]
  },
  {
   "cell_type": "markdown",
   "metadata": {},
   "source": [
    "## 读取多个文件"
   ]
  },
  {
   "cell_type": "markdown",
   "metadata": {},
   "source": [
    "### 某文件夹下所有文件 - 单级目录\n",
    "方法类似，只是 path 参数支持`通配符`"
   ]
  },
  {
   "cell_type": "code",
   "execution_count": 9,
   "metadata": {},
   "outputs": [],
   "source": [
    "all_csv_path = '/home/ghost/workdata/patients/*.csv'\n",
    "df_patient =  spark.read.format('csv')\\\n",
    "    .option('header', 'true')\\\n",
    "    .option('inferSchema', 'true')\\\n",
    "    .load(all_csv_path)"
   ]
  },
  {
   "cell_type": "code",
   "execution_count": 10,
   "metadata": {},
   "outputs": [
    {
     "data": {
      "text/plain": [
       "403"
      ]
     },
     "execution_count": 10,
     "metadata": {},
     "output_type": "execute_result"
    }
   ],
   "source": [
    "df_patient.count()"
   ]
  },
  {
   "cell_type": "markdown",
   "metadata": {},
   "source": [
    "### 某文件夹下所有文件 - 多级目录"
   ]
  },
  {
   "cell_type": "code",
   "execution_count": 11,
   "metadata": {},
   "outputs": [],
   "source": [
    "all_json_path = '/home/ghost/workdata/song_data/*/*/*/*.json'\n",
    "df_song =  spark.read.format('json').load(all_json_path)"
   ]
  },
  {
   "cell_type": "code",
   "execution_count": 15,
   "metadata": {},
   "outputs": [
    {
     "name": "stdout",
     "output_type": "stream",
     "text": [
      "total records:71\n"
     ]
    }
   ],
   "source": [
    "print(f\"total records:{df_song.count()}\")"
   ]
  },
  {
   "cell_type": "markdown",
   "metadata": {},
   "source": [
    "通过以上实例可知，通配符不仅可以用在文件名上，也可用在目录名上，非常强大"
   ]
  },
  {
   "cell_type": "markdown",
   "metadata": {},
   "source": [
    "### 指定多个文件\n",
    "通配符和指定文件名结合，给 path 参数传个 list 即可"
   ]
  },
  {
   "cell_type": "code",
   "execution_count": 13,
   "metadata": {},
   "outputs": [],
   "source": [
    "multi_csv_path = [\n",
    "    '/home/ghost/workdata/patients/*.csv',\n",
    "    '/home/ghost/workdata/patients-2.csv'\n",
    "]\n",
    "df_patient = spark.read.format('csv')\\\n",
    "    .option('header', 'true')\\\n",
    "    .option('inferSchema', 'true')\\\n",
    "    .load(multi_csv_path)"
   ]
  },
  {
   "cell_type": "code",
   "execution_count": 14,
   "metadata": {},
   "outputs": [
    {
     "data": {
      "text/plain": [
       "503"
      ]
     },
     "execution_count": 14,
     "metadata": {},
     "output_type": "execute_result"
    }
   ],
   "source": [
    "df_patient.count()"
   ]
  },
  {
   "cell_type": "markdown",
   "metadata": {},
   "source": [
    "## 选择与展示\n",
    "### DateFrame选择与展示"
   ]
  },
  {
   "cell_type": "code",
   "execution_count": 18,
   "metadata": {
    "scrolled": true
   },
   "outputs": [
    {
     "name": "stdout",
     "output_type": "stream",
     "text": [
      "+----------+\n",
      "|patient_id|\n",
      "+----------+\n",
      "|       201|\n",
      "|       202|\n",
      "|       203|\n",
      "|       204|\n",
      "|       205|\n",
      "+----------+\n",
      "\n"
     ]
    }
   ],
   "source": [
    "# patient_id列显示前 5 行\n",
    "df_patient.select('patient_id').limit(5).show()"
   ]
  },
  {
   "cell_type": "code",
   "execution_count": 19,
   "metadata": {},
   "outputs": [
    {
     "data": {
      "text/plain": [
       "[Row(patient_id=201, assigned_sex='male', given_name='Kifle', surname='Mustafa', address='4535 Prospect Street', city='Pennsauken', state='NJ', zip_code=8110, country='United States', contact='856-655-5415KifleMustafa@gustr.com', birthdate='10/9/1965', weight=186.1, height=69, bmi=27.5)]"
      ]
     },
     "execution_count": 19,
     "metadata": {},
     "output_type": "execute_result"
    }
   ],
   "source": [
    "# 所有列显示第一行\n",
    "df_patient.limit(1).collect()"
   ]
  },
  {
   "cell_type": "code",
   "execution_count": 20,
   "metadata": {},
   "outputs": [
    {
     "data": {
      "text/plain": [
       "[Row(patient_id=201, bmi=27.5),\n",
       " Row(patient_id=202, bmi=22.8),\n",
       " Row(patient_id=203, bmi=26.1),\n",
       " Row(patient_id=204, bmi=37.6),\n",
       " Row(patient_id=205, bmi=32.9)]"
      ]
     },
     "execution_count": 20,
     "metadata": {},
     "output_type": "execute_result"
    }
   ],
   "source": [
    "# 部分列显示前 5 行\n",
    "df_patient.select(['patient_id','bmi']).take(5)\n",
    "df_patient.select('patient_id','bmi').take(5)"
   ]
  },
  {
   "cell_type": "markdown",
   "metadata": {},
   "source": [
    "### SQL接口选择与展示"
   ]
  },
  {
   "cell_type": "code",
   "execution_count": 21,
   "metadata": {},
   "outputs": [],
   "source": [
    "# 创建视图供SQL访问\n",
    "df_patient.createOrReplaceTempView('dfTable_patient')"
   ]
  },
  {
   "cell_type": "code",
   "execution_count": 22,
   "metadata": {},
   "outputs": [
    {
     "name": "stdout",
     "output_type": "stream",
     "text": [
      "+----------+\n",
      "|patient_id|\n",
      "+----------+\n",
      "|       201|\n",
      "|       202|\n",
      "+----------+\n",
      "\n"
     ]
    }
   ],
   "source": [
    "# 用 SQL 访问 DataFrame 视图\n",
    "spark.sql('Select * From dfTable_patient Limit 5').limit(2).select('patient_id').show()"
   ]
  },
  {
   "cell_type": "markdown",
   "metadata": {},
   "source": [
    "从以上例子可以发现，sql接口和DataFrame接口可无缝衔接配合使用"
   ]
  },
  {
   "cell_type": "code",
   "execution_count": 23,
   "metadata": {
    "scrolled": true
   },
   "outputs": [
    {
     "name": "stdout",
     "output_type": "stream",
     "text": [
      "+------------+---+\n",
      "|assigned_sex|CNT|\n",
      "+------------+---+\n",
      "|      female|250|\n",
      "|        male|253|\n",
      "+------------+---+\n",
      "\n"
     ]
    }
   ],
   "source": [
    "# Spark 的 SQL 接口支持大多数SQL标准语法和函数\n",
    "spark.sql('''Select assigned_sex,count(*) As CNT\n",
    "             From dfTable_patient\n",
    "             Group By assigned_sex\n",
    "          ''').show()"
   ]
  },
  {
   "cell_type": "markdown",
   "metadata": {},
   "source": [
    "## 写文件"
   ]
  },
  {
   "cell_type": "markdown",
   "metadata": {},
   "source": [
    "写文件也非常方便，代码模式为： df_xxx.write.format(xxx).mode(xxx).option(xxx).save(xxx)     \n",
    "保存的文件名实际上是一个文件夹，里面含多个子文件，方便多个节点并行写    \n",
    "写文件还支持按某字段进行分区保存，相关例子[见文档](https://spark.apache.org/docs/latest/api/python/pyspark.sql.html#pyspark.sql.DataFrameWriter.parquet)"
   ]
  },
  {
   "cell_type": "code",
   "execution_count": 16,
   "metadata": {},
   "outputs": [],
   "source": [
    "# 写 csv\n",
    "df_song.write.format('csv')\\\n",
    "    .mode('overwrite')\\\n",
    "    .option('sep','|')\\\n",
    "    .option('header',True)\\\n",
    "    .save('/home/ghost/workdata/out-song.csv')"
   ]
  },
  {
   "cell_type": "code",
   "execution_count": 54,
   "metadata": {},
   "outputs": [],
   "source": [
    "# 虽然 out-song.csv 实际上是一个文件夹，但依然可以正常读回来\n",
    "df_test = spark.read.format('csv')\\\n",
    "    .option('header', 'true')\\\n",
    "    .option('inferSchema', 'true')\\\n",
    "    .option('sep', '|')\\\n",
    "    .load('/home/ghost/workdata/out-song.csv')"
   ]
  },
  {
   "cell_type": "code",
   "execution_count": 17,
   "metadata": {},
   "outputs": [],
   "source": [
    "# 写 json，用 repartition 方法保存到3个子文件中\n",
    "df_patient.repartition(3).write.format('json')\\\n",
    "    .mode('overwrite')\\\n",
    "    .save('/home/ghost/workdata/out-patient.json')"
   ]
  },
  {
   "cell_type": "markdown",
   "metadata": {},
   "source": [
    "## parquet读写"
   ]
  },
  {
   "cell_type": "code",
   "execution_count": 40,
   "metadata": {},
   "outputs": [],
   "source": [
    "# 写 parquet\n",
    "df_patient.write\\\n",
    "    .partitionBy('assigned_sex')\\\n",
    "    .parquet('/home/ghost/workdata/out-patient.parquet',mode = 'overwrite')"
   ]
  },
  {
   "cell_type": "code",
   "execution_count": 41,
   "metadata": {},
   "outputs": [
    {
     "name": "stdout",
     "output_type": "stream",
     "text": [
      "total 8\n",
      "drwxrwxr-x 2 ghost ghost 4096 8月  10 21:44 'assigned_sex=female'\n",
      "drwxrwxr-x 2 ghost ghost 4096 8月  10 21:44 'assigned_sex=male'\n",
      "-rw-r--r-- 1 ghost ghost    0 8月  10 21:44  _SUCCESS\n"
     ]
    }
   ],
   "source": [
    "# 查看 parquet 文件目录\n",
    "!ls -l \"/home/ghost/workdata/out-patient.parquet\""
   ]
  },
  {
   "cell_type": "code",
   "execution_count": 42,
   "metadata": {},
   "outputs": [],
   "source": [
    "# 读 parquet\n",
    "df_parquent = spark.read.format('parquet')\\\n",
    "    .load('/home/ghost/workdata/out-patient.parquet')\n",
    "\n",
    "# 读 parquet，仅某一分区\n",
    "df_parquent_male = spark.read.format('parquet')\\\n",
    "    .load('/home/ghost/workdata/out-patient.parquet/assigned_sex=male')"
   ]
  },
  {
   "cell_type": "code",
   "execution_count": null,
   "metadata": {},
   "outputs": [],
   "source": []
  }
 ],
 "metadata": {
  "kernelspec": {
   "display_name": "Python 3",
   "language": "python",
   "name": "python3"
  },
  "language_info": {
   "codemirror_mode": {
    "name": "ipython",
    "version": 3
   },
   "file_extension": ".py",
   "mimetype": "text/x-python",
   "name": "python",
   "nbconvert_exporter": "python",
   "pygments_lexer": "ipython3",
   "version": "3.7.3"
  }
 },
 "nbformat": 4,
 "nbformat_minor": 2
}
